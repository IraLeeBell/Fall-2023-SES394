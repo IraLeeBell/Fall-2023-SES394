{
 "cells": [
  {
   "cell_type": "code",
   "execution_count": null,
   "id": "ebe19e5b",
   "metadata": {},
   "outputs": [],
   "source": [
    "# Sky-SB codes\n",
    "from skysurf_estimate_sky import calculate_sky\n",
    "from make_diagnostic import make_plots\n",
    "\n",
    "# For downloading test data\n",
    "from astropy.io import fits\n",
    "from astroquery.mast import Observations\n",
    "\n",
    "# Other\n",
    "from glob import glob\n",
    "import pandas as pd\n",
    "import numpy as np"
   ]
  },
  {
   "cell_type": "code",
   "execution_count": null,
   "id": "981c1c18",
   "metadata": {},
   "outputs": [],
   "source": [
    "file_list = glob('*_c0m.fits')\n",
    "file_list"
   ]
  },
  {
   "cell_type": "markdown",
   "id": "5bd35c80",
   "metadata": {},
   "source": [
    "# Calculate sky for all files"
   ]
  },
  {
   "cell_type": "code",
   "execution_count": null,
   "id": "87590d63",
   "metadata": {},
   "outputs": [],
   "source": [
    "# Function to read some information from image header\n",
    "def get_info_from_header(hdu_sci, sci_ext, df):\n",
    "    \n",
    "    # Define list of keywords from header that might be useful\n",
    "    useful_keys_primary = ['CAL_VER', 'FILTNAM1', 'FILTNAM2', 'SUNANGLE', 'CENTRWV',\n",
    "                           'MOONANGL', 'SUN_ALT', 'EXPSTART', 'EXPTIME', 'TARGNAME', \n",
    "                           'RA_TARG', 'DEC_TARG', 'ECL_LONG', 'ECL_LAT', 'GAL_LONG', \n",
    "                           'GAL_LAT', 'PROPOSID']\n",
    "    \n",
    "    useful_keys_sci = ['BUNIT', 'NAXIS1', 'NAXIS2', 'PHOTFLAM', 'PHOTZPT', 'PHOTPLAM', 'ZP_CORR']\n",
    "\n",
    "    # Make an empty Python dictionary, that you will fill with information\n",
    "    dictionary = {}\n",
    "\n",
    "    for key in useful_keys_primary:\n",
    "        dictionary[key] = [hdu_sci[0].header[key]]\n",
    "\n",
    "    for key in useful_keys_sci:\n",
    "        dictionary[key] = [hdu_sci[sci_ext].header[key]]\n",
    "        \n",
    "    # Combine df with the dictionary to create newdf\n",
    "    newdf = pd.concat([df, pd.DataFrame(dictionary)], axis = 1)\n",
    "        \n",
    "    return newdf"
   ]
  },
  {
   "cell_type": "code",
   "execution_count": null,
   "id": "5f8b1990",
   "metadata": {
    "scrolled": true
   },
   "outputs": [],
   "source": [
    "df = pd.DataFrame([])\n",
    "\n",
    "for file_sci in file_list:\n",
    "    \n",
    "    for sci_ext in [1,2,3,4]:\n",
    "        \n",
    "        print(file_sci, 'SCI'+str(sci_ext))\n",
    "    \n",
    "        # Make small dataframe with file name\n",
    "        # For Windows, need to change\n",
    "        root = file_sci.split('_')[0].split('/')[-1]\n",
    "        file_df = pd.DataFrame({'file': [file_sci], 'root': [root], 'sci_ext': [sci_ext]})\n",
    "\n",
    "        # Open the fits file\n",
    "        hdu_sci = fits.open(file_sci)\n",
    "        \n",
    "        file_dq = file_sci.replace('c0m.fits', 'c1m.fits')\n",
    "        print(file_dq)\n",
    "        hdu_dq = fits.open(file_dq)\n",
    "\n",
    "        # Save the science data\n",
    "        sci_data = hdu_sci[sci_ext].data\n",
    "\n",
    "        # Save the data quality data\n",
    "        dq_data = hdu_dq[sci_ext].data\n",
    "\n",
    "        sky_dic = calculate_sky(sci_data, bin_size = 40, dq_data = dq_data, has_DQ = True, dq_fraction = 0.2)\n",
    "        \n",
    "        ### Make plots ###\n",
    "        # Instead of showing each figure, save them in the local directory\n",
    "        save_images = '{r}_sky_SCI{s}.png'.format(r = root, s = sci_ext)\n",
    "        plotting_data = np.copy(sci_data)\n",
    "        plotting_data[dq_data > 0] = np.nan\n",
    "        make_plots(data = plotting_data, cutouts = sky_dic['cutouts'][0], \n",
    "               goodind = sky_dic['lowest5perc_ind'][0], badind = sky_dic['bad_ind'][0], \n",
    "               sky = sky_dic['calc_sky'][0], rms = sky_dic['calc_rms'][0], \n",
    "               badpx = sky_dic['badpx_ind'][0], title = file_sci, \n",
    "               save = True, savepath = save_images, \n",
    "               show = True, figsize = (15,9))\n",
    "\n",
    "        ### Drop keys from output that we no longer need ###\n",
    "        drop_keys = ['sky_arr', 'rms_arr', 'cutouts', 'lowest5perc_ind', 'bad_ind', 'badpx_ind']\n",
    "        for key in drop_keys:\n",
    "            sky_dic.pop(key, None)\n",
    "\n",
    "        ### Save information to dataframe ###\n",
    "        tempdf = pd.DataFrame(pd.concat([file_df, pd.DataFrame(sky_dic)], axis = 1))\n",
    "        \n",
    "        tempdf = get_info_from_header(hdu_sci, sci_ext, tempdf)\n",
    "\n",
    "        df = pd.concat([df, tempdf])\n",
    "        \n",
    "df = df.reset_index(drop = True)"
   ]
  },
  {
   "cell_type": "code",
   "execution_count": null,
   "id": "d46b68ca",
   "metadata": {},
   "outputs": [],
   "source": [
    "# Print final table\n",
    "df"
   ]
  },
  {
   "cell_type": "code",
   "execution_count": null,
   "id": "46632e07",
   "metadata": {},
   "outputs": [],
   "source": [
    "# Save table\n",
    "df.to_csv('F555W_1_RosaliaOBrien.csv', index = False)"
   ]
  },
  {
   "cell_type": "markdown",
   "id": "dd920c7c",
   "metadata": {},
   "source": [
    "# Get rid of bad data"
   ]
  },
  {
   "cell_type": "code",
   "execution_count": null,
   "id": "fde17272",
   "metadata": {
    "scrolled": true
   },
   "outputs": [],
   "source": [
    "# Redefine number of total regions to be all regions that are NOT flagged as purple\n",
    "N_total_regions_modified = df['N_total_regions']-df['N_bad_px_regions']\n",
    "\n",
    "# Get percent of regions flagged as bad\n",
    "df['Percent_bad'] = df['N_bad_regions']/N_total_regions_modified*100\n",
    "\n",
    "# Make new table of only images where less than 30% of regions are bad\n",
    "good_df = df.loc[df['Percent_bad'] < 30]"
   ]
  },
  {
   "cell_type": "markdown",
   "id": "e8566d30",
   "metadata": {},
   "source": [
    "# Make Plot"
   ]
  },
  {
   "cell_type": "code",
   "execution_count": null,
   "id": "d48d15b5",
   "metadata": {},
   "outputs": [],
   "source": [
    "import matplotlib.pyplot as plt"
   ]
  },
  {
   "cell_type": "code",
   "execution_count": null,
   "id": "e770708c",
   "metadata": {},
   "outputs": [],
   "source": [
    "plt.scatter(good_df['ECL_LAT'], good_df['calc_sky'])\n",
    "\n",
    "plt.xlabel('Ecliptic Latitude')\n",
    "plt.ylabel('Sky')"
   ]
  },
  {
   "cell_type": "markdown",
   "id": "8b0af71c",
   "metadata": {},
   "source": [
    "# Find average of good data"
   ]
  },
  {
   "cell_type": "code",
   "execution_count": null,
   "id": "3431b77d",
   "metadata": {},
   "outputs": [],
   "source": [
    "np.mean(good_df['calc_sky'])"
   ]
  }
 ],
 "metadata": {
  "kernelspec": {
   "display_name": "Python 3 (ipykernel)",
   "language": "python",
   "name": "python3"
  },
  "language_info": {
   "codemirror_mode": {
    "name": "ipython",
    "version": 3
   },
   "file_extension": ".py",
   "mimetype": "text/x-python",
   "name": "python",
   "nbconvert_exporter": "python",
   "pygments_lexer": "ipython3",
   "version": "3.7.11"
  }
 },
 "nbformat": 4,
 "nbformat_minor": 5
}
